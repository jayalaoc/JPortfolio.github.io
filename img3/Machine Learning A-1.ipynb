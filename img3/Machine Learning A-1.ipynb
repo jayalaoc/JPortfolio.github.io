{
 "cells": [
  {
   "cell_type": "markdown",
   "metadata": {},
   "source": [
    "# Machine Learning - Linear Regression\n"
   ]
  },
  {
   "cell_type": "markdown",
   "metadata": {},
   "source": [
    "## 1. Linear Regression with One Variable"
   ]
  },
  {
   "cell_type": "markdown",
   "metadata": {},
   "source": [
    "Implement a linear regression model with **one variable** to predict profits for a food truck. Suppose you are the CEO of a restaurant franchise and are considering different cities for opening a new outlet. The chain already has trucks in various cities and you have data for profits and populations from the cities. You would like to use this data to help you select which city to expand to next."
   ]
  },
  {
   "cell_type": "markdown",
   "metadata": {},
   "source": [
    "### Plotting the Data"
   ]
  },
  {
   "cell_type": "code",
   "execution_count": 2,
   "metadata": {
    "_cell_guid": "b1076dfc-b9ad-4769-8c92-a6c4dae69d19",
    "_uuid": "8f2839f25d086af736a60e9eeb907d3b93b6e0e5",
    "execution": {
     "iopub.execute_input": "2022-12-31T05:51:25.539954Z",
     "iopub.status.busy": "2022-12-31T05:51:25.539569Z",
     "iopub.status.idle": "2022-12-31T05:51:26.199114Z",
     "shell.execute_reply": "2022-12-31T05:51:26.197943Z",
     "shell.execute_reply.started": "2022-12-31T05:51:25.539921Z"
    }
   },
   "outputs": [
    {
     "name": "stdout",
     "output_type": "stream",
     "text": [
      "/kaggle/input/food-truck-dataset/LinearRegressionMulti.txt\n",
      "/kaggle/input/food-truck-dataset/LinearRegression1var.txt\n"
     ]
    }
   ],
   "source": [
    "#Import libraries\n",
    "import numpy as np # linear algebra\n",
    "import pandas as pd # data processing, CSV file I/O (e.g. pd.read_csv)\n",
    "import seaborn as sns\n",
    "import matplotlib.pyplot as plt\n",
    "%matplotlib inline\n",
    "\n",
    "\n",
    "# Input data files are available in the read-only \"../input/\" directory\n",
    "# For example, running this (by clicking run or pressing Shift+Enter) will list all files under the input directory\n",
    "\n",
    "import os\n",
    "for dirname, _, filenames in os.walk('/kaggle/input'):\n",
    "    for filename in filenames:\n",
    "        print(os.path.join(dirname, filename))"
   ]
  },
  {
   "cell_type": "code",
   "execution_count": 3,
   "metadata": {
    "execution": {
     "iopub.execute_input": "2022-12-31T05:51:29.640127Z",
     "iopub.status.busy": "2022-12-31T05:51:29.639328Z",
     "iopub.status.idle": "2022-12-31T05:51:29.674769Z",
     "shell.execute_reply": "2022-12-31T05:51:29.673389Z",
     "shell.execute_reply.started": "2022-12-31T05:51:29.640084Z"
    }
   },
   "outputs": [
    {
     "data": {
      "text/html": [
       "<div>\n",
       "<style scoped>\n",
       "    .dataframe tbody tr th:only-of-type {\n",
       "        vertical-align: middle;\n",
       "    }\n",
       "\n",
       "    .dataframe tbody tr th {\n",
       "        vertical-align: top;\n",
       "    }\n",
       "\n",
       "    .dataframe thead th {\n",
       "        text-align: right;\n",
       "    }\n",
       "</style>\n",
       "<table border=\"1\" class=\"dataframe\">\n",
       "  <thead>\n",
       "    <tr style=\"text-align: right;\">\n",
       "      <th></th>\n",
       "      <th>0</th>\n",
       "      <th>1</th>\n",
       "    </tr>\n",
       "  </thead>\n",
       "  <tbody>\n",
       "    <tr>\n",
       "      <th>0</th>\n",
       "      <td>6.1101</td>\n",
       "      <td>17.5920</td>\n",
       "    </tr>\n",
       "    <tr>\n",
       "      <th>1</th>\n",
       "      <td>5.5277</td>\n",
       "      <td>9.1302</td>\n",
       "    </tr>\n",
       "    <tr>\n",
       "      <th>2</th>\n",
       "      <td>8.5186</td>\n",
       "      <td>13.6620</td>\n",
       "    </tr>\n",
       "    <tr>\n",
       "      <th>3</th>\n",
       "      <td>7.0032</td>\n",
       "      <td>11.8540</td>\n",
       "    </tr>\n",
       "    <tr>\n",
       "      <th>4</th>\n",
       "      <td>5.8598</td>\n",
       "      <td>6.8233</td>\n",
       "    </tr>\n",
       "  </tbody>\n",
       "</table>\n",
       "</div>"
      ],
      "text/plain": [
       "        0        1\n",
       "0  6.1101  17.5920\n",
       "1  5.5277   9.1302\n",
       "2  8.5186  13.6620\n",
       "3  7.0032  11.8540\n",
       "4  5.8598   6.8233"
      ]
     },
     "execution_count": 3,
     "metadata": {},
     "output_type": "execute_result"
    }
   ],
   "source": [
    "df = pd.read_csv(r'/kaggle/input/food-truck-dataset/LinearRegression1var.txt', sep=',', header=None)\n",
    "df.head()"
   ]
  },
  {
   "cell_type": "code",
   "execution_count": 4,
   "metadata": {
    "execution": {
     "iopub.execute_input": "2022-12-31T05:51:32.273799Z",
     "iopub.status.busy": "2022-12-31T05:51:32.273401Z",
     "iopub.status.idle": "2022-12-31T05:51:32.288428Z",
     "shell.execute_reply": "2022-12-31T05:51:32.287308Z",
     "shell.execute_reply.started": "2022-12-31T05:51:32.273767Z"
    }
   },
   "outputs": [
    {
     "data": {
      "text/html": [
       "<div>\n",
       "<style scoped>\n",
       "    .dataframe tbody tr th:only-of-type {\n",
       "        vertical-align: middle;\n",
       "    }\n",
       "\n",
       "    .dataframe tbody tr th {\n",
       "        vertical-align: top;\n",
       "    }\n",
       "\n",
       "    .dataframe thead th {\n",
       "        text-align: right;\n",
       "    }\n",
       "</style>\n",
       "<table border=\"1\" class=\"dataframe\">\n",
       "  <thead>\n",
       "    <tr style=\"text-align: right;\">\n",
       "      <th></th>\n",
       "      <th>population</th>\n",
       "      <th>profit</th>\n",
       "    </tr>\n",
       "  </thead>\n",
       "  <tbody>\n",
       "    <tr>\n",
       "      <th>0</th>\n",
       "      <td>6.1101</td>\n",
       "      <td>17.5920</td>\n",
       "    </tr>\n",
       "    <tr>\n",
       "      <th>1</th>\n",
       "      <td>5.5277</td>\n",
       "      <td>9.1302</td>\n",
       "    </tr>\n",
       "    <tr>\n",
       "      <th>2</th>\n",
       "      <td>8.5186</td>\n",
       "      <td>13.6620</td>\n",
       "    </tr>\n",
       "    <tr>\n",
       "      <th>3</th>\n",
       "      <td>7.0032</td>\n",
       "      <td>11.8540</td>\n",
       "    </tr>\n",
       "    <tr>\n",
       "      <th>4</th>\n",
       "      <td>5.8598</td>\n",
       "      <td>6.8233</td>\n",
       "    </tr>\n",
       "  </tbody>\n",
       "</table>\n",
       "</div>"
      ],
      "text/plain": [
       "   population   profit\n",
       "0      6.1101  17.5920\n",
       "1      5.5277   9.1302\n",
       "2      8.5186  13.6620\n",
       "3      7.0032  11.8540\n",
       "4      5.8598   6.8233"
      ]
     },
     "execution_count": 4,
     "metadata": {},
     "output_type": "execute_result"
    }
   ],
   "source": [
    "#Update Column Names\n",
    "df.columns = ['population', 'profit']\n",
    "df.head()"
   ]
  },
  {
   "cell_type": "markdown",
   "metadata": {},
   "source": [
    "The first column is the population of a city and the second column is the profit of a food truck in that city. A negative value for profit indicates a loss.\n",
    "\n"
   ]
  },
  {
   "cell_type": "code",
   "execution_count": 5,
   "metadata": {
    "execution": {
     "iopub.execute_input": "2022-12-31T05:51:34.134445Z",
     "iopub.status.busy": "2022-12-31T05:51:34.133997Z",
     "iopub.status.idle": "2022-12-31T05:51:34.430327Z",
     "shell.execute_reply": "2022-12-31T05:51:34.429250Z",
     "shell.execute_reply.started": "2022-12-31T05:51:34.134410Z"
    }
   },
   "outputs": [
    {
     "data": {
      "image/png": "[encoded data removed]",
      "text/plain": [
       "<Figure size 432x288 with 1 Axes>"
      ]
     },
     "metadata": {
      "needs_background": "light"
     },
     "output_type": "display_data"
    }
   ],
   "source": [
    "viz = sns.scatterplot(x='population', y='profit', data=df)\n",
    "viz.set(xlabel='Population of City in 10,000s', ylabel='Profit in $10,000s', title='Relationship between population and profit');"
   ]
  },
  {
   "cell_type": "markdown",
   "metadata": {},
   "source": [
    ">\n",
    ">The plot shows a positive linear correlation with a few outliers. As Population increases, so does profit. "
   ]
  },
  {
   "cell_type": "markdown",
   "metadata": {},
   "source": [
    "#### Gradient Descent?"
   ]
  },
  {
   "cell_type": "markdown",
   "metadata": {},
   "source": [
    "In **linear regression**, the hypothesis is a statement about the relationship between the dependent variable (y) and the independent variables (x). The most common form of the **hypothesis for linear regression is**:\n",
    "\n",
    "$h_\\theta (x) = \\theta^Tx = \\theta_0 + \\theta_1x_1 $\n",
    "\n",
    "\n"
   ]
  },
  {
   "cell_type": "markdown",
   "metadata": {},
   "source": [
    "What is the objective of linear regression?  \n",
    ">\n",
    ">To minimize the cost function (Root Mean Square Error RMSE): "
   ]
  },
  {
   "cell_type": "markdown",
   "metadata": {},
   "source": [
    "In machine learning, the **cost function** is a measure of how well a model is able to **predict the target variable based on the features**. The cost function is used to optimize the model's parameters, such as the coefficients in a linear regression model or the weights in a neural network.\n",
    "\n",
    "The **root mean square error (RMSE)** is a common choice for the cost function in regression problems. In this case, the cost function is defined as the RMSE between the predicted values and the actual values:\n",
    "\n",
    "$$ J(\\theta) = {\\frac{1}{2m} \\sum_{i=1}^{m} (h_\\theta (x^i) ) - y^i)^2}$$\n",
    "\n",
    "\n",
    "The cost function is used in conjunction with an optimization algorithm, such as **gradient descent**, to find the values of the model parameters that minimize the cost function and improve the model's predictions."
   ]
  },
  {
   "cell_type": "markdown",
   "metadata": {},
   "source": [
    "**Batch Gradient Descent:**\n",
    "\n",
    "$$ \\theta_j := \\theta_j - \\alpha{\\frac{1}{m} \\sum_{i=1}^{m} (h_\\theta (x^i) - y^i)x_j^i} $$"
   ]
  },
  {
   "cell_type": "markdown",
   "metadata": {},
   "source": [
    "(simultaneously update $\\theta_j$ for all ). With each step of gradient descent, your parameters $\\theta_j$come closer to the optimal values that will achieve the lowest cost $J(\\theta)$."
   ]
  },
  {
   "cell_type": "markdown",
   "metadata": {},
   "source": [
    "#### Implement in Python"
   ]
  },
  {
   "cell_type": "code",
   "execution_count": 9,
   "metadata": {
    "execution": {
     "iopub.execute_input": "2022-12-31T06:02:37.219925Z",
     "iopub.status.busy": "2022-12-31T06:02:37.219526Z",
     "iopub.status.idle": "2022-12-31T06:02:37.229419Z",
     "shell.execute_reply": "2022-12-31T06:02:37.228003Z",
     "shell.execute_reply.started": "2022-12-31T06:02:37.219892Z"
    }
   },
   "outputs": [
    {
     "name": "stdout",
     "output_type": "stream",
     "text": [
      "m: 97\n",
      "X: (97, 2)\n",
      "y: (97, 1)\n",
      "theta: (2, 1)\n"
     ]
    }
   ],
   "source": [
    "m = df.shape[0] \n",
    "X = np.hstack((np.ones((m,1)), df.population.values.reshape(-1,1)))\n",
    "y = np.array(df.profit.values).reshape(-1,1)\n",
    "theta = np.zeros(shape=(X.shape[1],1))\n",
    "\n",
    "iteration = 1500 \n",
    "alpha = 0.01 #learning rate\n",
    "\n",
    "print('m:',m)\n",
    "print('X:',X.shape)\n",
    "print('y:',y.shape)\n",
    "print('theta:',theta.shape)\n"
   ]
  },
  {
   "cell_type": "markdown",
   "metadata": {},
   "source": [
    "Now, lets compute the Cost function $J(\\theta)$ for one variable"
   ]
  },
  {
   "cell_type": "code",
   "execution_count": 23,
   "metadata": {
    "execution": {
     "iopub.execute_input": "2022-12-31T06:11:35.509487Z",
     "iopub.status.busy": "2022-12-31T06:11:35.509097Z",
     "iopub.status.idle": "2022-12-31T06:11:35.515854Z",
     "shell.execute_reply": "2022-12-31T06:11:35.514725Z",
     "shell.execute_reply.started": "2022-12-31T06:11:35.509456Z"
    }
   },
   "outputs": [],
   "source": [
    "def compute_cost_function(X, y, theta):   \n",
    "    m = y.shape[0]\n",
    "    h = X.dot(theta)\n",
    "    J = (1/(2*m)) * (np.sum((h - y)**2))\n",
    "    return J"
   ]
  },
  {
   "cell_type": "code",
   "execution_count": 26,
   "metadata": {
    "execution": {
     "iopub.execute_input": "2022-12-31T06:16:28.979068Z",
     "iopub.status.busy": "2022-12-31T06:16:28.978613Z",
     "iopub.status.idle": "2022-12-31T06:16:28.986775Z",
     "shell.execute_reply": "2022-12-31T06:16:28.985521Z",
     "shell.execute_reply.started": "2022-12-31T06:16:28.978995Z"
    }
   },
   "outputs": [
    {
     "name": "stdout",
     "output_type": "stream",
     "text": [
      "With theta = [0 ; 0]\n",
      "Cost computed = 32.072733877455676\n",
      "Expected cost value (approx) 32.07\n"
     ]
    }
   ],
   "source": [
    "#Plug in variables \n",
    "J = compute_cost_function(X, y, theta)\n",
    "print('With theta = [0 ; 0]\\nCost computed =', J)\n",
    "print('Expected cost value (approx) 32.07')"
   ]
  },
  {
   "cell_type": "code",
   "execution_count": 27,
   "metadata": {
    "execution": {
     "iopub.execute_input": "2022-12-31T06:16:34.854533Z",
     "iopub.status.busy": "2022-12-31T06:16:34.854148Z",
     "iopub.status.idle": "2022-12-31T06:16:34.860935Z",
     "shell.execute_reply": "2022-12-31T06:16:34.860079Z",
     "shell.execute_reply.started": "2022-12-31T06:16:34.854502Z"
    }
   },
   "outputs": [
    {
     "name": "stdout",
     "output_type": "stream",
     "text": [
      "With theta = [-1 ; 2]\n",
      "Cost computed = 54.24245508201238\n",
      "Expected cost value (approx) 54.24\n"
     ]
    }
   ],
   "source": [
    "J = compute_cost_function(X, y, [[-1],[2]])\n",
    "print('With theta = [-1 ; 2]\\nCost computed =', J)\n",
    "print('Expected cost value (approx) 54.24')"
   ]
  },
  {
   "cell_type": "code",
   "execution_count": 62,
   "metadata": {
    "execution": {
     "iopub.execute_input": "2022-12-31T06:32:43.837814Z",
     "iopub.status.busy": "2022-12-31T06:32:43.837428Z",
     "iopub.status.idle": "2022-12-31T06:32:43.844852Z",
     "shell.execute_reply": "2022-12-31T06:32:43.843611Z",
     "shell.execute_reply.started": "2022-12-31T06:32:43.837783Z"
    }
   },
   "outputs": [
    {
     "name": "stdout",
     "output_type": "stream",
     "text": [
      "With theta = [0.1 ; 1]\n",
      "Cost computed = 4.4833877209944\n",
      "Expected cost value (approx) 7.7\n"
     ]
    }
   ],
   "source": [
    "J = compute_cost_function(X, y, [[0.1],[1]])\n",
    "print('With theta = [0.1 ; 1]\\nCost computed =', J)\n",
    "print('Expected cost value (approx) 7.7')"
   ]
  },
  {
   "cell_type": "markdown",
   "metadata": {},
   "source": [
    "Gradient descent is a generic optimization algorithm that measures the local gradient of the cost function with regards to the parameter $\\theta$ and goes in the direction of descending gradient."
   ]
  },
  {
   "cell_type": "markdown",
   "metadata": {},
   "source": [
    "$$ \\theta_j := \\theta_j - \\alpha  \\frac{\\partial}{\\partial \\theta_j} J(\\theta_0, \\theta_1) := \\theta_j - \\alpha{\\frac{1}{m} \\sum_{i=1}^{m} (h_\\theta (x^i) - y^i)x_j^i} $$"
   ]
  },
  {
   "cell_type": "markdown",
   "metadata": {},
   "source": [
    "> where $j = 0,1; \\alpha$ is the learning rate (steps to update J); \n",
    "\n",
    "> $ \\frac{\\partial}{\\partial \\theta_j} J(\\theta_0, \\theta_1) $ is the derivative (*Calculus flashbacks*)"
   ]
  },
  {
   "cell_type": "code",
   "execution_count": 58,
   "metadata": {
    "execution": {
     "iopub.execute_input": "2022-12-31T06:31:18.887777Z",
     "iopub.status.busy": "2022-12-31T06:31:18.887387Z",
     "iopub.status.idle": "2022-12-31T06:31:18.894734Z",
     "shell.execute_reply": "2022-12-31T06:31:18.893854Z",
     "shell.execute_reply.started": "2022-12-31T06:31:18.887747Z"
    }
   },
   "outputs": [],
   "source": [
    "def gradient_descent(X, y, theta, alpha, num_iters):\n",
    "    m = y.shape[0]\n",
    "    J_history = np.zeros(shape=(num_iters, 1))\n",
    "\n",
    "    for i in range(0, num_iters):\n",
    "        h = X.dot(theta)\n",
    "        diff_hy = h - y\n",
    "\n",
    "        delta = (1/m) * (diff_hy.T.dot(X))\n",
    "        theta = theta - (alpha * delta.T)\n",
    "        J_history[i] = compute_cost_function(X, y, theta)\n",
    "\n",
    "    return theta, J_history"
   ]
  },
  {
   "cell_type": "code",
   "execution_count": 60,
   "metadata": {
    "execution": {
     "iopub.execute_input": "2022-12-31T06:32:01.929869Z",
     "iopub.status.busy": "2022-12-31T06:32:01.929444Z",
     "iopub.status.idle": "2022-12-31T06:32:01.978850Z",
     "shell.execute_reply": "2022-12-31T06:32:01.977795Z",
     "shell.execute_reply.started": "2022-12-31T06:32:01.929833Z"
    }
   },
   "outputs": [
    {
     "name": "stdout",
     "output_type": "stream",
     "text": [
      "Theta found by gradient descent:\n",
      " [[-3.63029144]\n",
      " [ 1.16636235]]\n",
      "Expected theta values (approx)\n",
      " -3.6303\n",
      "  1.1664\n"
     ]
    }
   ],
   "source": [
    "theta, _ = gradient_descent(X, y, theta, alpha, iteration)\n",
    "print('Theta found by gradient descent:\\n', theta)\n",
    "print('Expected theta values (approx)\\n -3.6303\\n  1.1664')"
   ]
  },
  {
   "cell_type": "code",
   "execution_count": 64,
   "metadata": {
    "execution": {
     "iopub.execute_input": "2022-12-31T06:34:08.404167Z",
     "iopub.status.busy": "2022-12-31T06:34:08.403775Z",
     "iopub.status.idle": "2022-12-31T06:34:08.411328Z",
     "shell.execute_reply": "2022-12-31T06:34:08.410176Z",
     "shell.execute_reply.started": "2022-12-31T06:34:08.404134Z"
    }
   },
   "outputs": [
    {
     "name": "stdout",
     "output_type": "stream",
     "text": [
      "With theta = [-3.6303 ; 1.1664]\n",
      "Cost computed = 4.4833877209944\n",
      "Expected cost value (approx) 4.5\n"
     ]
    }
   ],
   "source": [
    "#Plug expected theta values into Cost function:\n",
    "J = compute_cost_function(X, y, [[-3.6303],[1.1664]])\n",
    "print('With theta = [-3.6303 ; 1.1664]\\nCost computed =', J)\n",
    "print('Expected cost value (approx) 4.5')"
   ]
  },
  {
   "cell_type": "markdown",
   "metadata": {},
   "source": [
    "#### Plot found values into Linear Regression function "
   ]
  },
  {
   "cell_type": "code",
   "execution_count": 65,
   "metadata": {
    "execution": {
     "iopub.execute_input": "2022-12-31T06:36:18.246314Z",
     "iopub.status.busy": "2022-12-31T06:36:18.245830Z",
     "iopub.status.idle": "2022-12-31T06:36:18.503708Z",
     "shell.execute_reply": "2022-12-31T06:36:18.502590Z",
     "shell.execute_reply.started": "2022-12-31T06:36:18.246276Z"
    }
   },
   "outputs": [
    {
     "data": {
      "image/png": "[encoded data removed]",
      "text/plain": [
       "<Figure size 432x288 with 1 Axes>"
      ]
     },
     "metadata": {
      "needs_background": "light"
     },
     "output_type": "display_data"
    }
   ],
   "source": [
    "ax = sns.scatterplot(x='population', y='profit', data=df)\n",
    "plt.plot(X[:,1], X.dot(theta), color='r')\n",
    "ax.set(xlabel='Population of City in 10,000s', ylabel='Profit in $10,000s', title='Training data with linear regression fit');"
   ]
  },
  {
   "cell_type": "markdown",
   "metadata": {},
   "source": [
    "Recall:\n",
    "$$ h_\\theta (x) = \\theta^Tx = \\theta_0 + \\theta_1x_1 $$"
   ]
  },
  {
   "cell_type": "code",
   "execution_count": 68,
   "metadata": {
    "execution": {
     "iopub.execute_input": "2022-12-31T06:39:20.016731Z",
     "iopub.status.busy": "2022-12-31T06:39:20.016330Z",
     "iopub.status.idle": "2022-12-31T06:39:20.024272Z",
     "shell.execute_reply": "2022-12-31T06:39:20.023147Z",
     "shell.execute_reply.started": "2022-12-31T06:39:20.016698Z"
    }
   },
   "outputs": [
    {
     "data": {
      "text/plain": [
       "'For population = 50,000, we predict a profit of 22015.2031227355'"
      ]
     },
     "execution_count": 68,
     "metadata": {},
     "output_type": "execute_result"
    }
   ],
   "source": [
    "y_pred = np.array([1, 5]).dot(theta)\n",
    "f'For population = 50,000, we predict a profit of {y_pred[0]*10000}'"
   ]
  },
  {
   "cell_type": "code",
   "execution_count": 71,
   "metadata": {
    "execution": {
     "iopub.execute_input": "2022-12-31T06:40:11.203318Z",
     "iopub.status.busy": "2022-12-31T06:40:11.202899Z",
     "iopub.status.idle": "2022-12-31T06:40:11.211415Z",
     "shell.execute_reply": "2022-12-31T06:40:11.210270Z",
     "shell.execute_reply.started": "2022-12-31T06:40:11.203285Z"
    }
   },
   "outputs": [
    {
     "data": {
      "text/plain": [
       "'For population = 90,000, we predict a profit of 68669.69713615876'"
      ]
     },
     "execution_count": 71,
     "metadata": {},
     "output_type": "execute_result"
    }
   ],
   "source": [
    "y_pred = np.array([1, 9]).dot(theta)\n",
    "f'For population = 90,000, we predict a profit of {y_pred[0]*10000}'"
   ]
  },
  {
   "cell_type": "markdown",
   "metadata": {},
   "source": [
    "#### Now, lets visualize $J(\\theta)$"
   ]
  },
  {
   "cell_type": "markdown",
   "metadata": {},
   "source": [
    "Recall: The cost function $J(\\theta)$ is bowl-shaped and has a global mininum. This minimum is the optimal point for  $\\theta_0$ and $\\theta_1$ , and each step of gradient descent moves closer to this point regardless of where you start. This is the magic behind convex functions, you will arrive to the optimal point eventually. "
   ]
  },
  {
   "cell_type": "code",
   "execution_count": 72,
   "metadata": {
    "execution": {
     "iopub.execute_input": "2022-12-31T06:44:13.120353Z",
     "iopub.status.busy": "2022-12-31T06:44:13.119892Z",
     "iopub.status.idle": "2022-12-31T06:44:13.126151Z",
     "shell.execute_reply": "2022-12-31T06:44:13.124941Z",
     "shell.execute_reply.started": "2022-12-31T06:44:13.120314Z"
    }
   },
   "outputs": [],
   "source": [
    "theta0_vals = np.linspace(-10, 10, 100)\n",
    "theta1_vals = np.linspace(-1, 4, 100)"
   ]
  },
  {
   "cell_type": "code",
   "execution_count": 73,
   "metadata": {
    "execution": {
     "iopub.execute_input": "2022-12-31T06:44:18.342469Z",
     "iopub.status.busy": "2022-12-31T06:44:18.342083Z",
     "iopub.status.idle": "2022-12-31T06:44:18.348277Z",
     "shell.execute_reply": "2022-12-31T06:44:18.346987Z",
     "shell.execute_reply.started": "2022-12-31T06:44:18.342438Z"
    }
   },
   "outputs": [],
   "source": [
    "J_vals = np.zeros(shape=(len(theta0_vals), len(theta1_vals)))"
   ]
  },
  {
   "cell_type": "code",
   "execution_count": 74,
   "metadata": {
    "execution": {
     "iopub.execute_input": "2022-12-31T06:44:24.132755Z",
     "iopub.status.busy": "2022-12-31T06:44:24.132359Z",
     "iopub.status.idle": "2022-12-31T06:44:24.305479Z",
     "shell.execute_reply": "2022-12-31T06:44:24.304525Z",
     "shell.execute_reply.started": "2022-12-31T06:44:24.132714Z"
    }
   },
   "outputs": [],
   "source": [
    "for i in range(0, len(theta0_vals)):\n",
    "    for j in range(0, len(theta1_vals)):\n",
    "        J_vals[i,j] = compute_cost_one_variable(X, y, [[theta0_vals[i]], [theta1_vals[j]]])"
   ]
  },
  {
   "cell_type": "code",
   "execution_count": 75,
   "metadata": {
    "execution": {
     "iopub.execute_input": "2022-12-31T06:44:32.107077Z",
     "iopub.status.busy": "2022-12-31T06:44:32.106692Z",
     "iopub.status.idle": "2022-12-31T06:44:32.574603Z",
     "shell.execute_reply": "2022-12-31T06:44:32.573481Z",
     "shell.execute_reply.started": "2022-12-31T06:44:32.107040Z"
    }
   },
   "outputs": [
    {
     "data": {
      "image/png": "[encoded data removed]",
      "text/plain": [
       "<Figure size 432x288 with 1 Axes>"
      ]
     },
     "metadata": {
      "needs_background": "light"
     },
     "output_type": "display_data"
    }
   ],
   "source": [
    "ax = plt.contour(theta0_vals, theta1_vals, np.transpose(J_vals), levels=np.logspace(-2,3,20))\n",
    "plt.plot(theta[0,0], theta[1,0], marker='x', color='r');\n",
    "plt.xlabel(r'$\\theta_0$');\n",
    "plt.ylabel(r'$\\theta_1$');\n",
    "plt.title('Contour, showing minimum');"
   ]
  },
  {
   "cell_type": "markdown",
   "metadata": {},
   "source": [
    "#### Scikit-Learn implementation to compare results"
   ]
  },
  {
   "cell_type": "code",
   "execution_count": 76,
   "metadata": {
    "execution": {
     "iopub.execute_input": "2022-12-31T06:49:05.798164Z",
     "iopub.status.busy": "2022-12-31T06:49:05.797696Z",
     "iopub.status.idle": "2022-12-31T06:49:06.017750Z",
     "shell.execute_reply": "2022-12-31T06:49:06.016505Z",
     "shell.execute_reply.started": "2022-12-31T06:49:05.798126Z"
    }
   },
   "outputs": [
    {
     "data": {
      "text/plain": [
       "LinearRegression()"
      ]
     },
     "execution_count": 76,
     "metadata": {},
     "output_type": "execute_result"
    }
   ],
   "source": [
    "from sklearn.linear_model import LinearRegression\n",
    "lin_reg = LinearRegression()\n",
    "lin_reg.fit(df.population.values.reshape(-1,1), \n",
    "            df.profit.values.reshape(-1,1))"
   ]
  },
  {
   "cell_type": "code",
   "execution_count": 79,
   "metadata": {
    "execution": {
     "iopub.execute_input": "2022-12-31T06:52:38.189167Z",
     "iopub.status.busy": "2022-12-31T06:52:38.188706Z",
     "iopub.status.idle": "2022-12-31T06:52:38.196155Z",
     "shell.execute_reply": "2022-12-31T06:52:38.195108Z",
     "shell.execute_reply.started": "2022-12-31T06:52:38.189129Z"
    }
   },
   "outputs": [
    {
     "name": "stdout",
     "output_type": "stream",
     "text": [
      "Theta found by gradient descent:\n",
      " [[-3.63029144]\n",
      " [ 1.16636235]]\n",
      "\n",
      "Theta found using Scikit-learn [-3.89578088] [[1.19303364]]\n"
     ]
    }
   ],
   "source": [
    "lin_reg.intercept_, lin_reg.coef_\n",
    "\n",
    "print('Theta found by gradient descent:\\n', theta)\n",
    "print('\\nTheta found using Scikit-learn', lin_reg.intercept_, lin_reg.coef_)"
   ]
  },
  {
   "cell_type": "markdown",
   "metadata": {},
   "source": []
  },
  {
   "cell_type": "markdown",
   "metadata": {
    "execution": {
     "iopub.execute_input": "2022-12-31T06:54:20.818918Z",
     "iopub.status.busy": "2022-12-31T06:54:20.818460Z",
     "iopub.status.idle": "2022-12-31T06:54:20.824650Z",
     "shell.execute_reply": "2022-12-31T06:54:20.823080Z",
     "shell.execute_reply.started": "2022-12-31T06:54:20.818884Z"
    }
   },
   "source": [
    "## 2. Linear Regression with Multiple Variables"
   ]
  },
  {
   "cell_type": "markdown",
   "metadata": {},
   "source": [
    "Implement a linear regression model with **multiple variables** to predict the prices of houses. Suppose you are selling your house and you want to know what a good market price would be. One way to do this is to first collect information on recent houses sold and make a model of housing price"
   ]
  },
  {
   "cell_type": "code",
   "execution_count": 84,
   "metadata": {
    "execution": {
     "iopub.execute_input": "2022-12-31T06:58:30.439895Z",
     "iopub.status.busy": "2022-12-31T06:58:30.439461Z",
     "iopub.status.idle": "2022-12-31T06:58:30.455839Z",
     "shell.execute_reply": "2022-12-31T06:58:30.454577Z",
     "shell.execute_reply.started": "2022-12-31T06:58:30.439855Z"
    }
   },
   "outputs": [
    {
     "data": {
      "text/html": [
       "<div>\n",
       "<style scoped>\n",
       "    .dataframe tbody tr th:only-of-type {\n",
       "        vertical-align: middle;\n",
       "    }\n",
       "\n",
       "    .dataframe tbody tr th {\n",
       "        vertical-align: top;\n",
       "    }\n",
       "\n",
       "    .dataframe thead th {\n",
       "        text-align: right;\n",
       "    }\n",
       "</style>\n",
       "<table border=\"1\" class=\"dataframe\">\n",
       "  <thead>\n",
       "    <tr style=\"text-align: right;\">\n",
       "      <th></th>\n",
       "      <th>0</th>\n",
       "      <th>1</th>\n",
       "      <th>2</th>\n",
       "    </tr>\n",
       "  </thead>\n",
       "  <tbody>\n",
       "    <tr>\n",
       "      <th>0</th>\n",
       "      <td>2104</td>\n",
       "      <td>3</td>\n",
       "      <td>399900</td>\n",
       "    </tr>\n",
       "    <tr>\n",
       "      <th>1</th>\n",
       "      <td>1600</td>\n",
       "      <td>3</td>\n",
       "      <td>329900</td>\n",
       "    </tr>\n",
       "    <tr>\n",
       "      <th>2</th>\n",
       "      <td>2400</td>\n",
       "      <td>3</td>\n",
       "      <td>369000</td>\n",
       "    </tr>\n",
       "    <tr>\n",
       "      <th>3</th>\n",
       "      <td>1416</td>\n",
       "      <td>2</td>\n",
       "      <td>232000</td>\n",
       "    </tr>\n",
       "    <tr>\n",
       "      <th>4</th>\n",
       "      <td>3000</td>\n",
       "      <td>4</td>\n",
       "      <td>539900</td>\n",
       "    </tr>\n",
       "  </tbody>\n",
       "</table>\n",
       "</div>"
      ],
      "text/plain": [
       "      0  1       2\n",
       "0  2104  3  399900\n",
       "1  1600  3  329900\n",
       "2  2400  3  369000\n",
       "3  1416  2  232000\n",
       "4  3000  4  539900"
      ]
     },
     "execution_count": 84,
     "metadata": {},
     "output_type": "execute_result"
    }
   ],
   "source": [
    "df2 = pd.read_csv(r'/kaggle/input/food-truck-dataset/LinearRegressionMulti.txt', sep=',', header=None)\n",
    "df2.head()"
   ]
  },
  {
   "cell_type": "code",
   "execution_count": 87,
   "metadata": {
    "execution": {
     "iopub.execute_input": "2022-12-31T06:59:17.721080Z",
     "iopub.status.busy": "2022-12-31T06:59:17.720681Z",
     "iopub.status.idle": "2022-12-31T06:59:17.748221Z",
     "shell.execute_reply": "2022-12-31T06:59:17.746661Z",
     "shell.execute_reply.started": "2022-12-31T06:59:17.721046Z"
    }
   },
   "outputs": [
    {
     "data": {
      "text/html": [
       "<div>\n",
       "<style scoped>\n",
       "    .dataframe tbody tr th:only-of-type {\n",
       "        vertical-align: middle;\n",
       "    }\n",
       "\n",
       "    .dataframe tbody tr th {\n",
       "        vertical-align: top;\n",
       "    }\n",
       "\n",
       "    .dataframe thead th {\n",
       "        text-align: right;\n",
       "    }\n",
       "</style>\n",
       "<table border=\"1\" class=\"dataframe\">\n",
       "  <thead>\n",
       "    <tr style=\"text-align: right;\">\n",
       "      <th></th>\n",
       "      <th>count</th>\n",
       "      <th>mean</th>\n",
       "      <th>std</th>\n",
       "      <th>min</th>\n",
       "      <th>25%</th>\n",
       "      <th>50%</th>\n",
       "      <th>75%</th>\n",
       "      <th>max</th>\n",
       "    </tr>\n",
       "  </thead>\n",
       "  <tbody>\n",
       "    <tr>\n",
       "      <th>house_size</th>\n",
       "      <td>47.0</td>\n",
       "      <td>2000.680851</td>\n",
       "      <td>794.702354</td>\n",
       "      <td>852.0</td>\n",
       "      <td>1432.0</td>\n",
       "      <td>1888.0</td>\n",
       "      <td>2269.0</td>\n",
       "      <td>4478.0</td>\n",
       "    </tr>\n",
       "    <tr>\n",
       "      <th>bedrooms</th>\n",
       "      <td>47.0</td>\n",
       "      <td>3.170213</td>\n",
       "      <td>0.760982</td>\n",
       "      <td>1.0</td>\n",
       "      <td>3.0</td>\n",
       "      <td>3.0</td>\n",
       "      <td>4.0</td>\n",
       "      <td>5.0</td>\n",
       "    </tr>\n",
       "    <tr>\n",
       "      <th>house_price</th>\n",
       "      <td>47.0</td>\n",
       "      <td>340412.659574</td>\n",
       "      <td>125039.899586</td>\n",
       "      <td>169900.0</td>\n",
       "      <td>249900.0</td>\n",
       "      <td>299900.0</td>\n",
       "      <td>384450.0</td>\n",
       "      <td>699900.0</td>\n",
       "    </tr>\n",
       "  </tbody>\n",
       "</table>\n",
       "</div>"
      ],
      "text/plain": [
       "             count           mean            std       min       25%  \\\n",
       "house_size    47.0    2000.680851     794.702354     852.0    1432.0   \n",
       "bedrooms      47.0       3.170213       0.760982       1.0       3.0   \n",
       "house_price   47.0  340412.659574  125039.899586  169900.0  249900.0   \n",
       "\n",
       "                  50%       75%       max  \n",
       "house_size     1888.0    2269.0    4478.0  \n",
       "bedrooms          3.0       4.0       5.0  \n",
       "house_price  299900.0  384450.0  699900.0  "
      ]
     },
     "execution_count": 87,
     "metadata": {},
     "output_type": "execute_result"
    }
   ],
   "source": [
    "#Update Column names and transpose \n",
    "df2.columns = ['house_size', 'bedrooms', 'house_price']\n",
    "df2.describe().T"
   ]
  },
  {
   "cell_type": "markdown",
   "metadata": {},
   "source": [
    "> it seems house_size and bedroom columns differ by 1000x. This can slow down the convergence of $\\theta_0$ and $\\theta_1$ when we use gradient descent. So what must we do? "
   ]
  },
  {
   "cell_type": "markdown",
   "metadata": {},
   "source": [
    "**Feature normalization** is the process of scaling the features of a dataset so that they have similar ranges and are in the same units. It is important in machine learning and statistical modeling because it can help improve the performance of the model and make it easier to train.\n",
    "\n",
    "There are several reasons why feature normalization is important:\n",
    "\n",
    ">**Algorithmic reasons**: Some machine learning algorithms, such as gradient descent, are sensitive to the scale of the features. By normalizing the features, you can improve the convergence rate of the algorithm and reduce the risk of getting stuck in local optima.\n",
    "\n",
    ">**Statistical reasons**: In many statistical models, the scale of the features can affect the estimates of the model parameters. By normalizing the features, you can avoid bias in the estimates and improve the interpretability of the model.\n",
    "\n",
    ">**Data reasons**: In some cases, the scale of the features can be affected by the units of measurement or other factors that are not directly related to the underlying phenomenon being modeled. By normalizing the features, you can remove these extraneous factors and focus on the relationships between the features and the target variable.\n",
    "\n",
    "Overall, feature normalization is an important preprocessing step that can improve the performance and interpretability of machine learning models."
   ]
  },
  {
   "cell_type": "markdown",
   "metadata": {},
   "source": [
    "We can speed up gradient descent by having each of our input values in roughly the same range, ideally $-1 \\leq x_i \\leq 1$  or  $-0.5 \\leq x_i \\leq 0.5$."
   ]
  },
  {
   "cell_type": "markdown",
   "metadata": {},
   "source": [
    "Mean Normalization: \n",
    "$x_i := (\\frac{x_i - \\mu_i}{s_i}) $ where $\\mu_i$ is the average of all the values for features $(i)$ and $s_i$ is the standard deviation (max - min values)"
   ]
  },
  {
   "cell_type": "code",
   "execution_count": 88,
   "metadata": {
    "execution": {
     "iopub.execute_input": "2022-12-31T07:11:44.538396Z",
     "iopub.status.busy": "2022-12-31T07:11:44.537255Z",
     "iopub.status.idle": "2022-12-31T07:11:44.546170Z",
     "shell.execute_reply": "2022-12-31T07:11:44.544608Z",
     "shell.execute_reply.started": "2022-12-31T07:11:44.538353Z"
    }
   },
   "outputs": [],
   "source": [
    "#Normalization function in python\n",
    "def feature_normalize(X, mean=np.zeros(1), std=np.zeros(1)):\n",
    "    X = np.array(X)\n",
    "    if len(mean.shape) == 1 or len(std.shape) == 1:\n",
    "        mean = np.mean(X, axis=0)\n",
    "        std = np.std(X, axis=0, ddof=1)\n",
    "\n",
    "    X = (X - mean)/std\n",
    "    return X, mean, std"
   ]
  },
  {
   "cell_type": "code",
   "execution_count": 89,
   "metadata": {
    "execution": {
     "iopub.execute_input": "2022-12-31T07:12:26.004436Z",
     "iopub.status.busy": "2022-12-31T07:12:26.003986Z",
     "iopub.status.idle": "2022-12-31T07:12:26.011196Z",
     "shell.execute_reply": "2022-12-31T07:12:26.010292Z",
     "shell.execute_reply.started": "2022-12-31T07:12:26.004398Z"
    }
   },
   "outputs": [],
   "source": [
    "#Apply normalization to house_size and bedrooms\n",
    "X_norm, mu, sigma = feature_normalize(df2[['house_size', 'bedrooms']])"
   ]
  },
  {
   "cell_type": "code",
   "execution_count": 90,
   "metadata": {
    "execution": {
     "iopub.execute_input": "2022-12-31T07:12:47.268185Z",
     "iopub.status.busy": "2022-12-31T07:12:47.267801Z",
     "iopub.status.idle": "2022-12-31T07:12:47.294617Z",
     "shell.execute_reply": "2022-12-31T07:12:47.293722Z",
     "shell.execute_reply.started": "2022-12-31T07:12:47.268155Z"
    }
   },
   "outputs": [
    {
     "data": {
      "text/html": [
       "<div>\n",
       "<style scoped>\n",
       "    .dataframe tbody tr th:only-of-type {\n",
       "        vertical-align: middle;\n",
       "    }\n",
       "\n",
       "    .dataframe tbody tr th {\n",
       "        vertical-align: top;\n",
       "    }\n",
       "\n",
       "    .dataframe thead th {\n",
       "        text-align: right;\n",
       "    }\n",
       "</style>\n",
       "<table border=\"1\" class=\"dataframe\">\n",
       "  <thead>\n",
       "    <tr style=\"text-align: right;\">\n",
       "      <th></th>\n",
       "      <th>count</th>\n",
       "      <th>mean</th>\n",
       "      <th>std</th>\n",
       "      <th>min</th>\n",
       "      <th>25%</th>\n",
       "      <th>50%</th>\n",
       "      <th>75%</th>\n",
       "      <th>max</th>\n",
       "    </tr>\n",
       "  </thead>\n",
       "  <tbody>\n",
       "    <tr>\n",
       "      <th>house_size_normalized</th>\n",
       "      <td>47.0</td>\n",
       "      <td>3.779483e-17</td>\n",
       "      <td>1.0</td>\n",
       "      <td>-1.445423</td>\n",
       "      <td>-0.715590</td>\n",
       "      <td>-0.141790</td>\n",
       "      <td>0.337635</td>\n",
       "      <td>3.117292</td>\n",
       "    </tr>\n",
       "    <tr>\n",
       "      <th>bedrooms_normalized</th>\n",
       "      <td>47.0</td>\n",
       "      <td>2.746030e-16</td>\n",
       "      <td>1.0</td>\n",
       "      <td>-2.851859</td>\n",
       "      <td>-0.223675</td>\n",
       "      <td>-0.223675</td>\n",
       "      <td>1.090417</td>\n",
       "      <td>2.404508</td>\n",
       "    </tr>\n",
       "  </tbody>\n",
       "</table>\n",
       "</div>"
      ],
      "text/plain": [
       "                       count          mean  std       min       25%       50%  \\\n",
       "house_size_normalized   47.0  3.779483e-17  1.0 -1.445423 -0.715590 -0.141790   \n",
       "bedrooms_normalized     47.0  2.746030e-16  1.0 -2.851859 -0.223675 -0.223675   \n",
       "\n",
       "                            75%       max  \n",
       "house_size_normalized  0.337635  3.117292  \n",
       "bedrooms_normalized    1.090417  2.404508  "
      ]
     },
     "execution_count": 90,
     "metadata": {},
     "output_type": "execute_result"
    }
   ],
   "source": [
    "#Visualize\n",
    "df2['house_size_normalized'] = X_norm[:,0]\n",
    "df2['bedrooms_normalized'] = X_norm[:,1]\n",
    "df2[['house_size_normalized', 'bedrooms_normalized']].describe().T"
   ]
  },
  {
   "cell_type": "markdown",
   "metadata": {},
   "source": [
    "#### Gradient Descent for Multivariate regression"
   ]
  },
  {
   "cell_type": "markdown",
   "metadata": {},
   "source": [
    "Cost function can also be written in it vectorized form:\n",
    "$$ J(\\theta) = \\frac{1}{2m} (X\\theta - y)^T (X\\theta -y)$$"
   ]
  },
  {
   "cell_type": "code",
   "execution_count": 91,
   "metadata": {
    "execution": {
     "iopub.execute_input": "2022-12-31T07:23:01.180396Z",
     "iopub.status.busy": "2022-12-31T07:23:01.179974Z",
     "iopub.status.idle": "2022-12-31T07:23:01.186581Z",
     "shell.execute_reply": "2022-12-31T07:23:01.185090Z",
     "shell.execute_reply.started": "2022-12-31T07:23:01.180362Z"
    }
   },
   "outputs": [],
   "source": [
    "def compute_cost(X, y, theta):\n",
    "    m = y.shape[0]\n",
    "    h = X.dot(theta)\n",
    "    J = (1/(2*m)) * ((h-y).T.dot(h-y))\n",
    "    return J"
   ]
  },
  {
   "cell_type": "code",
   "execution_count": 92,
   "metadata": {
    "execution": {
     "iopub.execute_input": "2022-12-31T07:23:02.547115Z",
     "iopub.status.busy": "2022-12-31T07:23:02.546709Z",
     "iopub.status.idle": "2022-12-31T07:23:02.554654Z",
     "shell.execute_reply": "2022-12-31T07:23:02.553432Z",
     "shell.execute_reply.started": "2022-12-31T07:23:02.547080Z"
    }
   },
   "outputs": [],
   "source": [
    "def gradient_descent(X, y, theta, alpha, num_iters):\n",
    "    m = y.shape[0]\n",
    "    J_history = np.zeros(shape=(num_iters, 1))\n",
    "\n",
    "    for i in range(0, num_iters):\n",
    "        h = X.dot(theta)\n",
    "        diff_hy = h - y\n",
    "\n",
    "        delta = (1/m) * (diff_hy.T.dot(X))\n",
    "        theta = theta - (alpha * delta.T)\n",
    "        J_history[i] = compute_cost(X, y, theta)\n",
    "\n",
    "    return theta, J_history"
   ]
  },
  {
   "cell_type": "markdown",
   "metadata": {},
   "source": [
    "#### Selecting learning rates:"
   ]
  },
  {
   "cell_type": "markdown",
   "metadata": {},
   "source": [
    "There are several ways to find the learning rate for a multivariate regression cost function:\n",
    "\n",
    "**Grid search**: One approach is to use a grid search to test different learning rates and choose the one that produces the best results. To do this, you would define a range of learning rates to test, and then train the model using each learning rate. You can then evaluate the model's performance using a validation set and choose the learning rate that produces the best results.\n",
    "\n",
    "**Line search**: Another approach is to use a line search algorithm, which adjusts the learning rate based on the gradient of the cost function. Line search algorithms can be more efficient than grid search because they only need to evaluate a small number of learning rates, rather than testing every possible learning rate.\n",
    "\n",
    "**Adaptive learning rate methods**: There are also several adaptive learning rate methods that can automatically adjust the learning rate based on the gradient of the cost function. Some examples include Adagrad, RMSprop, and Adam. These methods are generally easier to use than grid search or line search, but they may not always produce the best results.\n",
    "\n",
    "Ultimately, the best learning rate will depend on the specific characteristics of your data and the model you are using. It may be necessary to try out different learning rates and see which one works best for your particular problem."
   ]
  },
  {
   "cell_type": "code",
   "execution_count": 96,
   "metadata": {
    "execution": {
     "iopub.execute_input": "2022-12-31T07:27:52.343662Z",
     "iopub.status.busy": "2022-12-31T07:27:52.343258Z",
     "iopub.status.idle": "2022-12-31T07:27:52.351919Z",
     "shell.execute_reply": "2022-12-31T07:27:52.351002Z",
     "shell.execute_reply.started": "2022-12-31T07:27:52.343628Z"
    }
   },
   "outputs": [
    {
     "name": "stdout",
     "output_type": "stream",
     "text": [
      "47\n",
      "(47, 3)\n",
      "(47, 1)\n",
      "(3, 1)\n"
     ]
    }
   ],
   "source": [
    "m = df2.shape[0]\n",
    "X = np.hstack((np.ones((m,1)),X_norm))\n",
    "y = np.array(df2.house_price.values).reshape(-1,1)\n",
    "theta = np.zeros(shape=(X.shape[1],1))\n",
    "\n",
    "print(m)\n",
    "print(X.shape)\n",
    "print(y.shape)\n",
    "print(theta.shape)"
   ]
  },
  {
   "cell_type": "code",
   "execution_count": 113,
   "metadata": {
    "execution": {
     "iopub.execute_input": "2022-12-31T07:31:15.737187Z",
     "iopub.status.busy": "2022-12-31T07:31:15.736760Z",
     "iopub.status.idle": "2022-12-31T07:31:15.743558Z",
     "shell.execute_reply": "2022-12-31T07:31:15.742525Z",
     "shell.execute_reply.started": "2022-12-31T07:31:15.737148Z"
    }
   },
   "outputs": [],
   "source": [
    "#Test with a few alpha values \n",
    "alpha = [0.3, 0.2, 0.1, 0.03, 0.02, 0.01]\n",
    "colors = ['b','r','m','g','c','p']\n",
    "num_iters = 50"
   ]
  },
  {
   "cell_type": "code",
   "execution_count": 114,
   "metadata": {
    "execution": {
     "iopub.execute_input": "2022-12-31T07:31:15.967282Z",
     "iopub.status.busy": "2022-12-31T07:31:15.966541Z",
     "iopub.status.idle": "2022-12-31T07:31:16.222156Z",
     "shell.execute_reply": "2022-12-31T07:31:16.221068Z",
     "shell.execute_reply.started": "2022-12-31T07:31:15.967245Z"
    }
   },
   "outputs": [
    {
     "data": {
      "image/png": "[encoded data removed]",
      "text/plain": [
       "<Figure size 432x288 with 1 Axes>"
      ]
     },
     "metadata": {
      "needs_background": "light"
     },
     "output_type": "display_data"
    }
   ],
   "source": [
    "for i in range(0, len(alpha)):\n",
    "    theta = np.zeros(shape=(X.shape[1],1))\n",
    "    theta, J_history = gradient_descent(X, y, theta, alpha[i], num_iters)\n",
    "    plt.plot(range(len(J_history)), J_history, colors[i], label='Alpha {}'.format(alpha[i]))\n",
    "plt.xlabel('Number of iterations');\n",
    "plt.ylabel('Cost J');\n",
    "plt.title('Selecting learning rates');\n",
    "plt.legend()\n",
    "plt.show()"
   ]
  },
  {
   "cell_type": "code",
   "execution_count": 115,
   "metadata": {
    "execution": {
     "iopub.execute_input": "2022-12-31T07:31:31.461981Z",
     "iopub.status.busy": "2022-12-31T07:31:31.461556Z",
     "iopub.status.idle": "2022-12-31T07:31:31.474205Z",
     "shell.execute_reply": "2022-12-31T07:31:31.473251Z",
     "shell.execute_reply.started": "2022-12-31T07:31:31.461945Z"
    }
   },
   "outputs": [
    {
     "name": "stdout",
     "output_type": "stream",
     "text": [
      "Theta found by gradient descent:\n",
      "[[340412.65957372]\n",
      " [110630.26530813]\n",
      " [ -6648.6893001 ]]\n"
     ]
    }
   ],
   "source": [
    "iterations = 250\n",
    "alpha = 0.1\n",
    "theta, _ = gradient_descent(X, y, theta, alpha, iterations)\n",
    "\n",
    "print('Theta found by gradient descent:')\n",
    "print(theta)"
   ]
  },
  {
   "cell_type": "markdown",
   "metadata": {},
   "source": [
    "**Estimate the price of a 1650 sq-ft, 3 bedrooms house**"
   ]
  },
  {
   "cell_type": "code",
   "execution_count": 119,
   "metadata": {
    "execution": {
     "iopub.execute_input": "2022-12-31T07:33:52.592840Z",
     "iopub.status.busy": "2022-12-31T07:33:52.592415Z",
     "iopub.status.idle": "2022-12-31T07:33:52.600727Z",
     "shell.execute_reply": "2022-12-31T07:33:52.599892Z",
     "shell.execute_reply.started": "2022-12-31T07:33:52.592802Z"
    }
   },
   "outputs": [
    {
     "data": {
      "text/plain": [
       "'Price of a house with 1650 square feet and 3 bedrooms: $293081.63514221634'"
      ]
     },
     "execution_count": 119,
     "metadata": {},
     "output_type": "execute_result"
    }
   ],
   "source": [
    "sqft = (1650 - mu[0])/sigma[0]\n",
    "bedrooms = (3 - mu[1])/sigma[1]\n",
    "y_pred = theta[0] + theta[1]*sqft + theta[2]*bedrooms\n",
    "f'Price of a house with 1650 square feet and 3 bedrooms: ${y_pred[0]}'"
   ]
  },
  {
   "cell_type": "markdown",
   "metadata": {},
   "source": [
    "**Estimate the price of 750 sq-ft, 1 bedrooms house**"
   ]
  },
  {
   "cell_type": "code",
   "execution_count": 120,
   "metadata": {
    "execution": {
     "iopub.execute_input": "2022-12-31T07:33:54.075173Z",
     "iopub.status.busy": "2022-12-31T07:33:54.072201Z",
     "iopub.status.idle": "2022-12-31T07:33:54.083200Z",
     "shell.execute_reply": "2022-12-31T07:33:54.082065Z",
     "shell.execute_reply.started": "2022-12-31T07:33:54.075135Z"
    }
   },
   "outputs": [
    {
     "data": {
      "text/plain": [
       "'Price of a house with 750 square feet and 1 bedrooms: $185266.89268288703'"
      ]
     },
     "execution_count": 120,
     "metadata": {},
     "output_type": "execute_result"
    }
   ],
   "source": [
    "sqft = (750 - mu[0])/sigma[0]\n",
    "bedrooms = (1 - mu[1])/sigma[1]\n",
    "y_pred = theta[0] + theta[1]*sqft + theta[2]*bedrooms\n",
    "f'Price of a house with 750 square feet and 1 bedrooms: ${y_pred[0]}'"
   ]
  },
  {
   "cell_type": "markdown",
   "metadata": {},
   "source": [
    "#### Scikit-Learn implementation to compare results"
   ]
  },
  {
   "cell_type": "code",
   "execution_count": 121,
   "metadata": {
    "execution": {
     "iopub.execute_input": "2022-12-31T07:34:28.013235Z",
     "iopub.status.busy": "2022-12-31T07:34:28.012846Z",
     "iopub.status.idle": "2022-12-31T07:34:28.025159Z",
     "shell.execute_reply": "2022-12-31T07:34:28.024312Z",
     "shell.execute_reply.started": "2022-12-31T07:34:28.013204Z"
    }
   },
   "outputs": [
    {
     "data": {
      "text/plain": [
       "LinearRegression()"
      ]
     },
     "execution_count": 121,
     "metadata": {},
     "output_type": "execute_result"
    }
   ],
   "source": [
    "from sklearn.linear_model import LinearRegression\n",
    "lin_reg = LinearRegression()\n",
    "lin_reg.fit(X_norm, y)"
   ]
  },
  {
   "cell_type": "code",
   "execution_count": 122,
   "metadata": {
    "execution": {
     "iopub.execute_input": "2022-12-31T07:35:21.107625Z",
     "iopub.status.busy": "2022-12-31T07:35:21.107156Z",
     "iopub.status.idle": "2022-12-31T07:35:21.114611Z",
     "shell.execute_reply": "2022-12-31T07:35:21.113091Z",
     "shell.execute_reply.started": "2022-12-31T07:35:21.107541Z"
    }
   },
   "outputs": [
    {
     "name": "stdout",
     "output_type": "stream",
     "text": [
      "Theta found by gradient descent:\n",
      " [[340412.65957372]\n",
      " [110630.26530813]\n",
      " [ -6648.6893001 ]]\n",
      "\n",
      "Theta found using Scikit-learn [340412.65957447] [[110631.05027885  -6649.47427082]]\n"
     ]
    }
   ],
   "source": [
    "print('Theta found by gradient descent:\\n', theta)\n",
    "print('\\nTheta found using Scikit-learn', lin_reg.intercept_, lin_reg.coef_)"
   ]
  },
  {
   "cell_type": "markdown",
   "metadata": {},
   "source": [
    "## Conclusion"
   ]
  },
  {
   "cell_type": "markdown",
   "metadata": {},
   "source": [
    "**Linear regression** is a machine learning technique that is used to model the relationship between a dependent variable and one or more independent variables. It is a simple and widely used method for predicting a quantitative response. Here are some examples of **applications** of linear regression using machine learning:\n",
    "\n",
    "> **Sales forecasting**: Linear regression can be used to predict future sales based on factors such as marketing expenses, product features, and economic indicators.\n",
    "\n",
    ">**Credit risk assessment**: Linear regression can be used to predict the likelihood of a borrower defaulting on a loan based on factors such as credit score, income, and debt-to-income ratio.\n",
    "\n",
    ">**Demand forecasting**: Linear regression can be used to predict the demand for a product or service based on factors such as price, marketing efforts, and seasonality.\n",
    "\n",
    ">**Salary prediction**: Linear regression can be used to predict an individual's salary based on factors such as education, experience, and job title.\n",
    "\n",
    ">**Stock price prediction**: Linear regression can be used to predict the future price of a stock based on factors such as earnings, dividends, and market conditions.\n",
    "\n",
    "These are just a few examples of the many applications of linear regression using machine learning. Linear regression is a simple yet powerful tool for **predicting quantitative outcomes**, and it is widely used in a variety of industries and fields."
   ]
  }
 ],
 "metadata": {
  "kernelspec": {
   "display_name": "Python 3 (ipykernel)",
   "language": "python",
   "name": "python3"
  },
  "language_info": {
   "codemirror_mode": {
    "name": "ipython",
    "version": 3
   },
   "file_extension": ".py",
   "mimetype": "text/x-python",
   "name": "python",
   "nbconvert_exporter": "python",
   "pygments_lexer": "ipython3",
   "version": "3.9.12"
  }
 },
 "nbformat": 4,
 "nbformat_minor": 4
}
